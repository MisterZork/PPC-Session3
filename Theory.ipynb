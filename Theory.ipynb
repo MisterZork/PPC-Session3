{
 "cells": [
  {
   "metadata": {},
   "cell_type": "markdown",
   "source": [
    " # Project de programmation au contexte scientifique\n",
    "\n",
    "### Ceci est une liste de projets pour le parcours enrichi de session 3. La liste se trouve en-dessous, mais il faudra d'abord importer ce qui est essentiel."
   ],
   "id": "51366f242ed268c5"
  },
  {
   "metadata": {
    "jupyter": {
     "is_executing": true
    }
   },
   "cell_type": "code",
   "source": [
    "import math\n",
    "import matplotlib as plot\n",
    "import numpy as np"
   ],
   "id": "7ae45ae3bfeaaddc",
   "outputs": [],
   "execution_count": null
  },
  {
   "metadata": {},
   "cell_type": "markdown",
   "source": [
    "### 1 - Énergie potentielle électrique\n",
    "- Difficulté : 4/10\n",
    "- Détails : 5/10\n",
    "\n",
    "Cette question peut être répondue quand même facilement, en demandant le nombre de particules, leurs charges\n",
    "(en considérant la possibilité que ça soit un électron ou un proton), puis en calculant l'énergie de chaque intéractions\n",
    "entre ces particules. Le maximum qu'on peut aller avec ce projet est d'afficher visuellement ces liens, et montrer\n",
    "l'énergie potentielle de chacun.\n"
   ],
   "id": "5c09b2058a2b7099"
  },
  {
   "metadata": {},
   "cell_type": "markdown",
   "source": [
    "\n",
    "Utot = U12 + U13 + U14 + U1... + Unm\n",
    "q pour chaque u et m\n",
    "puis calculer chaque lien leur énergie"
   ],
   "id": "5bec048d9230ea30"
  },
  {
   "cell_type": "code",
   "execution_count": null,
   "id": "initial_id",
   "metadata": {
    "collapsed": true
   },
   "outputs": [],
   "source": [
    "def potential_energy(points_dict):\n",
    "    for i in range(points_dict.keys):\n",
    "        "
   ]
  },
  {
   "metadata": {},
   "cell_type": "markdown",
   "source": [
    "### 2 - Équation transcendante\n",
    "- Difficulté : 4/10\n",
    "- Intérêt : 2/10\n",
    "\n",
    "Une équation transcendante est une équation qui ne peut être résolue uniquement par des solutions numériques, car il n'y\n",
    "a pas de formules qui existent pour eux. Dans notre cas (At = Bcos(Ct)), en vérifiant sur Desmos, on obtient une\n",
    "\"constante\" verticale qui se déplace avec b, se sépare avec c et se multiplie avec à entre -1 et 1, ou se rapproche de\n",
    "ZÉRO en-dehors.\n",
    "\n",
    "Pour de vrai, la seule solution que je verrais est de demander d'avance les valeurs de A, B et C (là, ça sera un calcul \n",
    "facile). Pour plus de détail, un graphique avec matplotlib à la limite ?\n",
    "\n"
   ],
   "id": "1820985f4ddfe0b7"
  },
  {
   "metadata": {},
   "cell_type": "markdown",
   "source": "On calcule chaque itération où la formule en haut = 0",
   "id": "e2e97207474ec73f"
  },
  {
   "metadata": {},
   "cell_type": "code",
   "outputs": [],
   "execution_count": null,
   "source": "",
   "id": "3ecfc61845f80a45"
  },
  {
   "metadata": {},
   "cell_type": "markdown",
   "source": [
    "### 3 - Équilibre à 3 forces\n",
    "- Difficulté : 5/10\n",
    "- Intérêt : 4/10\n",
    "\n",
    "De la bonne physique ! Imaginons un plan en x et y, on doit juste faire en sorte que la force exercée à l'origine = 0 N.\n",
    "Comment on fait ça ? Calculer la force des 2 autres poids (t'as juste besoin de son poids, la constante g et leurs\n",
    "positions). \n"
   ],
   "id": "a7d3b83a67e76158"
  },
  {
   "metadata": {},
   "cell_type": "markdown",
   "source": "À partir de m1, m2 et leurs angles à partir du centre, il faut trouver un m3 et l'angle 3 pour trouver que le centre = 0 N",
   "id": "c46704fd21803d0f"
  },
  {
   "metadata": {},
   "cell_type": "code",
   "outputs": [],
   "execution_count": null,
   "source": "",
   "id": "484e01ca2431cd30"
  },
  {
   "metadata": {},
   "cell_type": "markdown",
   "source": [
    "### 4 - Frottement versus gravité\n",
    "- Difficulté : 4/10 (6/10 pour me rappeler des formules)\n",
    "- Intérêt : 4/10\n",
    "\n",
    "Par contre, cette physique, je l'apprécie moins. Il faudra que je me rappelle comment calculer les coefficients de\n",
    "frottements, si je fais ce travail. C'est un bloc qui se fait tirer par un autre bloc, entièrement accéléré par\n",
    "la gravité.\n"
   ],
   "id": "27aaaac40f78a430"
  },
  {
   "metadata": {},
   "cell_type": "markdown",
   "source": "Avec mA, mB et la constante de frottement cinétique/dynamique, faudra trouver l'accélération de A en x",
   "id": "31a44b8fcf4bfd14"
  },
  {
   "metadata": {},
   "cell_type": "code",
   "outputs": [],
   "execution_count": null,
   "source": "",
   "id": "2e4c2b7d5c1fe3e2"
  },
  {
   "metadata": {},
   "cell_type": "markdown",
   "source": [
    "### 5 - Indice de diversité\n",
    "- Difficulté : 2/10\n",
    "- Intérêt : 4/10\n",
    "\n",
    "Un programme un peu plus facile, où l'on calcule l'indice de diversité biologique avec la formule de Gini-Simpson (une somme des probabilités au carré). Le seul truc qui peut valoir la peine est d'utiliser un bon dataset et de l'extraire."
   ],
   "id": "7e93a6ecc351bb9"
  },
  {
   "metadata": {},
   "cell_type": "markdown",
   "source": "À partir du nombre d'espèce d'un certain individu, faudra faire 1 - la somme au carré de la probabilité de tomber sur cette espèce.",
   "id": "c0301ab77dd5a200"
  },
  {
   "metadata": {},
   "cell_type": "code",
   "outputs": [],
   "execution_count": null,
   "source": "",
   "id": "c28b3ee7ff76f6bf"
  },
  {
   "metadata": {},
   "cell_type": "markdown",
   "source": [
    "### 6 - Intégrale numérique : Soleil\n",
    "- Difficulté : 7/10\n",
    "- Intérêt : 5/10\n",
    "\n",
    "Ok, comment tu calcule ça ? Sérieusement, la question est de calculer le pourcentage de l'énergie émise par le Soleil qui se transforme en lumière visible. Tu dois utiliser la loi de Plank (la nouvelle, ne pas confondre avec la loi de Rayleigh-Jeans) pour déterminer ce pourcentage."
   ],
   "id": "f3b6073acd796317"
  },
  {
   "metadata": {},
   "cell_type": "markdown",
   "source": [
    "Vu que ça sera l'aire sous la courbe de cette loi de plank du Soleil, faudra faire la somme de Riemann (ou la méthode de Simpson).\n",
    "\n",
    "Cette courbe sera une courbe "
   ],
   "id": "47ddbf85991858d5"
  },
  {
   "metadata": {},
   "cell_type": "code",
   "outputs": [],
   "execution_count": null,
   "source": "",
   "id": "3fda3949cd07bbe6"
  },
  {
   "metadata": {},
   "cell_type": "markdown",
   "source": [
    "### 7 - L'aire d'un polygone irrégulier\n",
    "- Difficulté : 4/10\n",
    "- Intérêt : 6/10\n",
    "\n",
    "Cette formule est très intéressante, on peut littéralement utiliser la somme de déterminants des coordonnées x et y pour obtenir cette aire, like wtf, c'est fou ! Il faudra essayer de le faire avec des coordonnées z pour être encore fou (mais c'est plus compliqué)."
   ],
   "id": "7f21da419fba7509"
  },
  {
   "metadata": {},
   "cell_type": "code",
   "outputs": [],
   "execution_count": null,
   "source": "",
   "id": "8e8ee3e2f46ad425"
  },
  {
   "metadata": {},
   "cell_type": "markdown",
   "source": [
    "### 8 - Le champ électrique dans un système sphère-coquille\n",
    "- Difficulté : 5/10\n",
    "- Intérêt : 3/10\n",
    "\n",
    "Trouver une distance entre un centre et le point, puis trouver la composante radiale de ce champ, quand même rapide. Ça sera simple si c'est juste un calcul de champ électrique seulement. "
   ],
   "id": "f2252051cdb7c624"
  },
  {
   "metadata": {},
   "cell_type": "markdown",
   "source": "Pour calculer, il y a 3 champ électrique à calculer, qui est la sphère pleine au centre, l'intérieur de la coquille opposé et l'extérieur de la coquille. Dans les trois cas, le r est considéré au centre de la sphère pleine (pour les 3). Par contre, quand on est à l'intérieur du conducteur, E = 0",
   "id": "59baa375e8b8fdc9"
  },
  {
   "metadata": {},
   "cell_type": "code",
   "outputs": [],
   "execution_count": null,
   "source": "",
   "id": "d7c91ba564596b41"
  },
  {
   "metadata": {},
   "cell_type": "markdown",
   "source": [
    "### 9 - Le plus court trajet possible\n",
    "- Difficulté : 6/10\n",
    "- Intérêt : 8/10\n",
    "\n",
    "Littéralement un algorithme très utile pour n'importe quel type de pathfinding (c'est littéralement sa base dans tous les cas). La seule difficulté est de trouver un meilleur algorithme pour passer par 5 points le plus court possible que juste brute force (essayer toutes les combinaisons possibles)."
   ],
   "id": "919a801bb2ea2ded"
  },
  {
   "metadata": {},
   "cell_type": "code",
   "outputs": [],
   "execution_count": null,
   "source": "",
   "id": "1cc05844a2bdd87"
  },
  {
   "metadata": {},
   "cell_type": "markdown",
   "source": [
    "### 10 - Le point avec lequel le champ électrique est nul\n",
    "- Difficulté : 7/10\n",
    "- Intérêt : 5/10\n",
    "\n",
    "C'est littéralement l'examen UN de physique, donc, ça sera un bon rappel de matière. On a besoin de connaître les lieux où une telle force est annulé par les autres forces des particules. On peut ajouter + de détails en le faisant en TROIS dimensions (mais ça montrera une série de points, ainsi faudra en faire 3)."
   ],
   "id": "766e7208aa0a6006"
  },
  {
   "metadata": {},
   "cell_type": "code",
   "outputs": [],
   "execution_count": null,
   "source": "",
   "id": "a38b4a3f465c1575"
  },
  {
   "metadata": {},
   "cell_type": "markdown",
   "source": [
    "### 11 - Le point ou le champ magnétique est nul\n",
    "- Difficulté : 8+/10\n",
    "- Intérêt : 5/10\n",
    "\n",
    "C'est sur le champ magnétique, à faire attention. Ce n'est pas de la matière que j'ai étudié, donc, ça sera une couche de difficulté ajoutée. Vu que c'est un sujet à l'étude, c'est intéressant, mais c'est quand même difficile."
   ],
   "id": "3d0963524e3e368a"
  },
  {
   "metadata": {},
   "cell_type": "markdown",
   "source": "",
   "id": "ad616630be8256d3"
  },
  {
   "metadata": {},
   "cell_type": "code",
   "outputs": [],
   "execution_count": null,
   "source": "",
   "id": "35547a9de3f358bd"
  },
  {
   "metadata": {},
   "cell_type": "markdown",
   "source": [
    "### 12 - Le potentiel électrique dans un système sphère-coquille\n",
    "- Difficulté : 5/10\n",
    "- Intérêt : 3/10\n",
    "\n",
    "Même chose que la question 8, mais tu dois déterminer le potentiel électrique à la place."
   ],
   "id": "1d45ed924ce28d50"
  },
  {
   "metadata": {},
   "cell_type": "code",
   "outputs": [],
   "execution_count": null,
   "source": "",
   "id": "166be25aa8a0a0f0"
  },
  {
   "metadata": {},
   "cell_type": "markdown",
   "source": [
    "### 13 - Les points avec lesquels le potentiel électrique est nul\n",
    "- Difficulté : 6/10\n",
    "- Intérêt : 3/10\n",
    "\n",
    "Il faut trouver deux points x1 et x2 où le potentiel électrique est nul, quand tu as deux particules sur l'axe des x."
   ],
   "id": "6b1693c0ab55313b"
  },
  {
   "metadata": {},
   "cell_type": "code",
   "outputs": [],
   "execution_count": null,
   "source": "",
   "id": "fb5015b4acc0a745"
  },
  {
   "metadata": {},
   "cell_type": "markdown",
   "source": [
    "### 14 - Probabilités : Le lancer de trois dés\n",
    "- Difficulté : 2/10\n",
    "- Intérêt : 4/10\n",
    "\n",
    "Probabilité d'obtenir une somme spécifique à partir de TROIS lancés de dés. Simple, peut être amélioré avec un graphique qui affiche une normale :)"
   ],
   "id": "470b7408ba4cb15d"
  },
  {
   "metadata": {},
   "cell_type": "code",
   "outputs": [],
   "execution_count": null,
   "source": "",
   "id": "5eb1e025c45e7aaa"
  },
  {
   "metadata": {},
   "cell_type": "markdown",
   "source": [
    "### 15 - Régression linéaire\n",
    "- Difficulté : 6+/10\n",
    "- Intérêt : 6/10\n",
    "\n",
    "Question un peu difficile, car je dois me rappeler la formule, mais c'est même l'une des bases pour afficher des statistiques sur des graphiques."
   ],
   "id": "e6d3668e85726f07"
  },
  {
   "metadata": {},
   "cell_type": "markdown",
   "source": "Pour résoudre ce problème, il faudra que le programme lise une liste de données sur un .csv (",
   "id": "2fe79e802ce33780"
  },
  {
   "metadata": {
    "ExecuteTime": {
     "end_time": "2024-11-07T19:52:04.822461200Z",
     "start_time": "2024-11-07T17:42:57.615672Z"
    }
   },
   "cell_type": "code",
   "source": [
    "def data_list():\n",
    "    \n",
    "    return data\n",
    "\n",
    "def detailed_regression(degree, data):\n",
    "    \n",
    "    At = np.transpose(A)\n",
    "    ans_list = np.dot(np.dot(np.dot(A, At), At), y)           \n",
    "    return ans_list"
   ],
   "id": "73c4dc9f6f4302a",
   "outputs": [],
   "execution_count": null
  },
  {
   "metadata": {},
   "cell_type": "markdown",
   "source": [
    "### 16 - Trouver les zéros d'un polynôme\n",
    "- Difficulté : 4/10\n",
    "- Intérêt : 3/10\n",
    "\n",
    "Calculs similaires à la question 2, où tu dois déterminer de manière numérique les valeurs avec lesquelles x fait en sorte que y = 0. À la limite, ajouter un graphique à cela peut donner plus d'information"
   ],
   "id": "2d87b11360fbfac4"
  },
  {
   "metadata": {},
   "cell_type": "code",
   "outputs": [],
   "execution_count": null,
   "source": "",
   "id": "b82de556ef5cf2dc"
  },
  {
   "metadata": {},
   "cell_type": "markdown",
   "source": [
    "## BONUS - Projet GPS\n",
    "\n",
    "https://github.com/MisterZork/GPS-Project/tree/master"
   ],
   "id": "5fc9faf4d6b4bc33"
  },
  {
   "metadata": {},
   "cell_type": "markdown",
   "source": [
    "Liste de préférence :\n",
    "9, 15, 3, 7, "
   ],
   "id": "e04efbffb12be24d"
  }
 ],
 "metadata": {
  "kernelspec": {
   "display_name": "Python 3",
   "language": "python",
   "name": "python3"
  },
  "language_info": {
   "codemirror_mode": {
    "name": "ipython",
    "version": 2
   },
   "file_extension": ".py",
   "mimetype": "text/x-python",
   "name": "python",
   "nbconvert_exporter": "python",
   "pygments_lexer": "ipython2",
   "version": "2.7.6"
  }
 },
 "nbformat": 4,
 "nbformat_minor": 5
}
